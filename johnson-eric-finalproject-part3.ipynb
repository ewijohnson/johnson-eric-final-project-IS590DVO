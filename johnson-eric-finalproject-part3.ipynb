{
 "cells": [
  {
   "cell_type": "markdown",
   "metadata": {},
   "source": [
    "# Glaciers around the World: What influences glacial size?"
   ]
  },
  {
   "cell_type": "markdown",
   "metadata": {},
   "source": [
    "### An interactive visualization and exploration by Eric Johnson"
   ]
  },
  {
   "cell_type": "markdown",
   "metadata": {},
   "source": [
    "Our world contains many glaciers, ranging in size from over 11,000 square kilometeres to less than a fraction of a square kilometer. Why do glaciers come in such a wide variety of sizes? Glaciers form high in the mountains, and at sea level. They are found at the poles and in countries near the equator. They come in different types, forming in different places and because of different reasons. Do any of these factors correlate with glacier size? These visualizations will explore this question. \n",
    "\n",
    "The topics we will go through in this article include glacial area and maximum elevation of glaciers, the types of glaciers and their average areas, and how rainfall of each country interacts with glacial size and maximum elevation of glaciers in that country. \n",
    "\n",
    "These visualizations were created using data from different sources which can be found at the end of this article, with the main data set being used from the National Snow and Ice Data Center - the World Glacier Inventory, a catalog of over 130,000 glaciers that was created between 1900 and 2003.$^{1}$ This data serves as a representative sample of most glaciers on Earth in the end of the 20th century, with the exception of many Antarctican glaciers, as the data only includes glaciers north of -71 degrees South, which excludes most of the Antarctican mainland. The other main data set used is a collection of data on average rainfall for countries around the world, from worldbank.org.$^{2}$ "
   ]
  },
  {
   "cell_type": "code",
   "execution_count": 18,
   "metadata": {},
   "outputs": [],
   "source": [
    "import pandas as pd\n",
    "import bqplot\n",
    "import numpy as np\n",
    "import traitlets\n",
    "import ipywidgets\n",
    "%matplotlib inline\n",
    "import matplotlib.pyplot as plt"
   ]
  },
  {
   "cell_type": "code",
   "execution_count": 19,
   "metadata": {},
   "outputs": [],
   "source": [
    "glaciers_file = 'C:\\\\Users\\\\oboec\\\\Jupyter Notebooks\\\\IS 590 DVO\\\\world_glacier_inventory.csv'\n",
    "rainfall_file = 'C:\\\\Users\\\\oboec\\\\Jupyter Notebooks\\\\IS 590 DVO\\\\world_rainfall.csv'\n",
    "\n",
    "glaciers = pd.read_csv(glaciers_file, encoding='ISO-8859-1')\n",
    "rainfall = pd.read_csv(rainfall_file)"
   ]
  },
  {
   "cell_type": "markdown",
   "metadata": {},
   "source": [
    "## Part 1: Glaciers by Glacial Area and Elevation"
   ]
  },
  {
   "cell_type": "markdown",
   "metadata": {},
   "source": [
    "To start off our glacial exploration, let's consider the elevations where glaciers form. Glaciers form near the sea at both poles, where lengthy winters allow for vast expanses of ice. Glaciers also form in the mountains, where the temperatures can be significantly colder than at the base - for example, there are glaciers in places like South Africa and Venezuela! But is there a correlation between glacier size and elevation? Where do the largest glaciers form? Are they closer to sea level, or are the largest high up in the mountains? This first interactive visualization will explore any relationships between max elevation of glaciers and total glacial area. "
   ]
  },
  {
   "cell_type": "code",
   "execution_count": 20,
   "metadata": {},
   "outputs": [],
   "source": [
    "glaciers = glaciers.dropna(subset=['total_area', 'max_elev', 'primary_class'])\n",
    "glaciers = glaciers[glaciers.total_area != 0]\n",
    "glaciers = glaciers[(glaciers.lat != 0) & \n",
    "                    (glaciers.lon != 0)]"
   ]
  },
  {
   "cell_type": "code",
   "execution_count": 21,
   "metadata": {},
   "outputs": [
    {
     "name": "stderr",
     "output_type": "stream",
     "text": [
      "C:\\ProgramData\\Anaconda3\\lib\\site-packages\\ipykernel_launcher.py:15: RuntimeWarning: divide by zero encountered in log10\n",
      "  from ipykernel import kernelapp as app\n"
     ]
    },
    {
     "data": {
      "text/plain": [
       "array([[nan, nan, nan, ..., nan, nan, nan],\n",
       "       [nan, nan, nan, ..., nan, nan, nan],\n",
       "       [nan, nan, nan, ..., nan, nan, nan],\n",
       "       ...,\n",
       "       [nan, nan, nan, ..., nan, nan, nan],\n",
       "       [nan, nan, nan, ..., nan, nan, nan],\n",
       "       [nan, nan, nan, ..., nan, nan, nan]])"
      ]
     },
     "execution_count": 21,
     "metadata": {},
     "output_type": "execute_result"
    }
   ],
   "source": [
    "nlong = 50\n",
    "nlat = 50\n",
    "\n",
    "long_bins = np.linspace(-180, 180, nlong+1)\n",
    "lat_bins = np.linspace(-90, 90, nlat+1)\n",
    "\n",
    "hist2d, long_edges, lat_edges = np.histogram2d(glaciers['lon'], glaciers['lat'],\n",
    "                                                 weights=glaciers['max_elev'], \n",
    "                                                 bins=[long_bins, lat_bins], \n",
    "                                                 )\n",
    "\n",
    "long_centers = [(long_edges[i] + long_edges[i+1]) * 0.5 for i in range(len(long_edges)-1)]\n",
    "lat_centers = [(lat_edges[i] + lat_edges[i+1]) * 0.5 for i in range(len(lat_edges)-1)]\n",
    "\n",
    "np.log10(hist2d)\n",
    "\n",
    "hist2d[hist2d <=0] = np.nan\n",
    "hist2d = np.log10(hist2d)\n",
    "hist2d = hist2d.T\n",
    "\n",
    "hist2d"
   ]
  },
  {
   "cell_type": "code",
   "execution_count": 22,
   "metadata": {},
   "outputs": [
    {
     "data": {
      "application/vnd.jupyter.widget-view+json": {
       "model_id": "a78b18d58944448d81f8713ce22192e3",
       "version_major": 2,
       "version_minor": 0
      },
      "text/plain": [
       "VBox(children=(Label(value=''), HBox(children=(Figure(axes=[Axis(label='Max Elevation in m', scale=LinearScale…"
      ]
     },
     "metadata": {},
     "output_type": "display_data"
    }
   ],
   "source": [
    "col_sc = bqplot.ColorScale(scheme='GnBu')\n",
    "x_sc = bqplot.LinearScale()\n",
    "y_sc = bqplot.LinearScale()\n",
    "\n",
    "c_ax = bqplot.ColorAxis(scale=col_sc, orientation='vertical', side='right', label='log(m)')\n",
    "x_ax = bqplot.Axis(scale=x_sc, label='Longitude')\n",
    "y_ax = bqplot.Axis(scale=y_sc, label='Latitude', orientation='vertical')\n",
    "\n",
    "heat_map = bqplot.GridHeatMap(color=hist2d, row=lat_centers, column=long_centers,\n",
    "                             scales={'color':col_sc, 'row':y_sc, 'column':x_sc},\n",
    "                             interactions={'click':'select'},\n",
    "                             anchor_style={'fill': 'red'},\n",
    "                             selected_style={'opacity':1.0},\n",
    "                             unselected_style={'opacity':1.0})\n",
    "\n",
    "### Elevation and Area Plot ###\n",
    "\n",
    "x_scl = bqplot.LinearScale()\n",
    "y_scl = bqplot.LinearScale()\n",
    "ax_xcl = bqplot.Axis(label='Max Elevation in m', scale=x_scl)\n",
    "ax_ycl = bqplot.Axis(label='Total Area in sq.km', scale=y_scl, \n",
    "                     orientation='vertical', side='left')\n",
    "\n",
    "\n",
    "i, j = 0, 0 \n",
    "longs = [long_edges[j], long_edges[j+1]]\n",
    "lats = [lat_edges[i], lat_edges[i+1]]\n",
    "region_mask = ((glaciers['lat'] >= lats[0]) & (glaciers['lat'] < lats[1]) &\\\n",
    "              (glaciers['lon'] >= longs[0]) & (glaciers['lon'] < longs[1]))\n",
    "\n",
    "elev, elev_edges = np.histogram(glaciers['max_elev'][region_mask], \n",
    "                                weights=glaciers['total_area'][region_mask], \n",
    "                                bins=10)\n",
    "\n",
    "elev_centers = [(elev_edges[i] + elev_edges[i+1]) * 0.5 for i in range(len(elev_edges)-1)]\n",
    "\n",
    "elev_hist = bqplot.Lines(x=elev_centers, y=elev,\n",
    "                       scales={'x':x_scl, 'y':y_scl})\n",
    "\n",
    "fig_elev = bqplot.Figure(marks=[elev_hist], axes=[ax_xcl, ax_ycl])\n",
    "\n",
    "### Tracking Changes ###\n",
    "\n",
    "mySelectedLabel = ipywidgets.Label()\n",
    "def get_data_value(change):\n",
    "    i, j = change['owner'].selected[0]\n",
    "    v = hist2d[i, j]\n",
    "    mySelectedLabel.value = 'Max Elevation in log(m) = ' + str(v)\n",
    "    longs = [long_edges[j], long_edges[j+1]]\n",
    "    lats = [lat_edges[i], lat_edges[i+1]]\n",
    "    region_mask = ((glaciers['lat'] >= lats[0]) & (glaciers['lat'] < lats[1]) &\\\n",
    "              (glaciers['lon'] >= longs[0]) & (glaciers['lon'] < longs[1]))\n",
    "    \n",
    "    elev, elev_edges = np.histogram(glaciers['max_elev'][region_mask], \n",
    "                                weights=glaciers['total_area'][region_mask], \n",
    "                                bins=10)\n",
    "    elev_centers = [(elev_edges[i] + elev_edges[i+1]) * 0.5 for i in range(len(elev_edges)-1)]\n",
    "    elev_hist.x = elev_centers\n",
    "    elev_hist.y = elev\n",
    "    \n",
    "heat_map.observe(get_data_value, 'selected')\n",
    "\n",
    "fig = bqplot.Figure(marks=[heat_map], axes=[c_ax, y_ax, x_ax], \n",
    "                    title='World Glaciers by Max Elevation & Area')\n",
    "\n",
    "fig_elev.layout.max_width = '600px'\n",
    "fig_elev.layout.max_height = '500px'\n",
    "fig.layout.min_width = '800px'\n",
    "\n",
    "ipywidgets.VBox([mySelectedLabel, ipywidgets.HBox([fig_elev]),\n",
    "                fig])"
   ]
  },
  {
   "cell_type": "markdown",
   "metadata": {},
   "source": [
    "This visualization is a heat map, where each square represents the relative maximum elevation of glaciers in that square. The darker the color, the higher the elevation for the glaciers in that square. Each square can be clicked on, and will update the line graph above the heat map. The line graph compares the max elevation for each glacier in the selected square and shows the total area of all glaciers at each elevation. This is an easy way to compare different glaciers around the world and see at which elevations the most and the largest glaciers form.\n",
    "\n",
    "Playing around with this visualization will help to show that glaciers exist at many different elevations and come in many different sizes. "
   ]
  },
  {
   "cell_type": "markdown",
   "metadata": {},
   "source": [
    "## Part 2: Glaciers by Type: What kinds of glaciers exist on Earth? Why should we care?"
   ]
  },
  {
   "cell_type": "markdown",
   "metadata": {},
   "source": [
    "In this section, we'll take a look at the different types of glaciers. It is important to get a closer look at the different kinds of glaciers, because there are many different factors that come into play when considering why some glaciers are larger than others. First we looked at elevation, to see if that had any correlation on size. Now we can look at glacier type, and see if there is any connection between the type of glacier and its size. \n",
    "\n",
    "Before we get started with this section, I'll briefly mention the ten different classifications of glacier types used by the NSIDC: "
   ]
  },
  {
   "cell_type": "markdown",
   "metadata": {},
   "source": [
    "NSIDC Glacier Classification Types | Brief Description\n",
    "---------------------------------- | -----------------\n",
    "<b>Continental Ice Sheet</b>       | Glacial areas of continental size\n",
    "<b>Ice Field</b>                   | Sheets of ice masses that are thick enough to hide the underlying topography\n",
    "<b>Ice Cap</b>                     | Dome-shaped ice masses\n",
    "<b>Outlet Glacier</b>              | Drains an ice sheet, field, or cap - usually of valley glacier form\n",
    "<b>Valley Glacier</b>              | Flows down a valley\n",
    "<b>Mountain Glacier</b>            | Cirque, niche or crater type, hanging - includes ice aprons and groups of small units\n",
    "<b>Glacieret and Snowfield</b>     | Small ice masses of indefinite shapes - forms in hollows, river beds, protected slopes. Developed from snow drift, avalanches, heavy snow accumulation. Existed for 2+ years\n",
    "<b>Ice Shelf</b>                   | Floating thick ice sheet, nourished by glacier\n",
    "<b>Rock Glacier</b>                | Lava-stream-like debris mass containing ice in several forms, moving slowly downslope\n",
    "<b>Miscellaneous</b>               | Any type not listed above\n",
    "\n",
    "<em>(Adopted from NSIDC User Guide on World Glacier Inventory dataset) $^{1}$</em>"
   ]
  },
  {
   "cell_type": "markdown",
   "metadata": {},
   "source": [
    "These types might not mean much right now, but with a little investigation, we can easily discover what the differences are between them. Continental Ice Sheet, for example, is a glacier that covers areas of continental land masses, such as the glaciers that cover Greenland.$^{3}$ An Ice Shelf is a glacier that floats on the sea and is connected to another glacier on the coast - the most famous example of this is the Ross Ice Shelf in Antarctica.$^{4}$ And a Valley Glacier is a glacier that has formed in a valley.$^{5}$ The other glacier types can be easily looked up for more detailed information, and the User Guide for this data set provides a brief explanation of each type as well, which can be found in the sources at the end of this article.$^{1}$"
   ]
  },
  {
   "cell_type": "code",
   "execution_count": 23,
   "metadata": {},
   "outputs": [],
   "source": [
    "class_name = ['Miscellaneous', \n",
    "             'Continental Ice Sheet',\n",
    "             'Ice Field', \n",
    "             'Ice Cap', \n",
    "             'Outlet Glacier', \n",
    "             'Valley Glacier', \n",
    "             'Mountain Glacier', \n",
    "             'Glacieret and Snowfield', \n",
    "             'Ice Shelf', \n",
    "             'Rock Glacier']\n",
    "\n",
    "glaciers_class = glaciers.groupby('primary_class')['total_area'].mean()\n",
    "glaciers_class = glaciers_class.reset_index()\n",
    "glaciers_class['primary_class_name'] = class_name\n",
    "\n",
    "glaciers_area = glaciers.groupby('primary_class')['total_area'].sum()\n",
    "glaciers_area = glaciers_area.reset_index()\n",
    "glaciers_area['primary_class_name'] = class_name"
   ]
  },
  {
   "cell_type": "code",
   "execution_count": 24,
   "metadata": {
    "scrolled": false
   },
   "outputs": [
    {
     "data": {
      "application/vnd.jupyter.widget-view+json": {
       "model_id": "089775bdbda840e6908d51c8447d92c4",
       "version_major": 2,
       "version_minor": 0
      },
      "text/plain": [
       "Figure(axes=[Axis(label='Primary Class Type', scale=OrdinalScale(), tick_rotate=-45), Axis(label='Average Area…"
      ]
     },
     "metadata": {},
     "output_type": "display_data"
    }
   ],
   "source": [
    "x_sc = bqplot.OrdinalScale()\n",
    "y_sc = bqplot.LinearScale()\n",
    "\n",
    "x_ax = bqplot.Axis(scale=x_sc, tick_rotate=-45, label='Primary Class Type')\n",
    "y_ax = bqplot.Axis(scale=y_sc, orientation='vertical', label='Average Area in Square Kilometers')\n",
    "\n",
    "tt = bqplot.Tooltip(fields=['x', 'y'], labels=['Primary Class', 'Average Area'])\n",
    "\n",
    "scatters1 = bqplot.Scatter(x=glaciers_class['primary_class_name'], y=glaciers_class['total_area'], \n",
    "                  scales={'x': x_sc, 'y': y_sc}, tooltip=tt)\n",
    "\n",
    "fig = bqplot.Figure(marks=[scatters1], axes=[x_ax, y_ax], title='Primary Class Type by Average Area')\n",
    "fig"
   ]
  },
  {
   "cell_type": "markdown",
   "metadata": {},
   "source": [
    "For all of the visualizations in this section, you can hover over a point to see the specific glacier type as well as the exact area value. \n",
    "\n",
    "The above visualization looks at the average area for a glacier of each type. It is easy to see that Continental Ice Sheets, on average, are far larger than any other type of glacier. Most of the other types are fairly close in average area to each other, and in fact, most of these are so close that it is hard to see which types are larger or smaller than the others. To get a better look at this data, the plot can be redrawn using a log scale, which essentially will exaggerate any differences near the bottom of the scale. "
   ]
  },
  {
   "cell_type": "code",
   "execution_count": 25,
   "metadata": {},
   "outputs": [
    {
     "data": {
      "application/vnd.jupyter.widget-view+json": {
       "model_id": "65ee86a95406464fb175631264312dc5",
       "version_major": 2,
       "version_minor": 0
      },
      "text/plain": [
       "Figure(axes=[Axis(label='Primary Class Type', scale=OrdinalScale(), tick_rotate=-45), Axis(label='Average Area…"
      ]
     },
     "metadata": {},
     "output_type": "display_data"
    }
   ],
   "source": [
    "x_sc = bqplot.OrdinalScale()\n",
    "y_sc = bqplot.LogScale()\n",
    "\n",
    "x_ax = bqplot.Axis(scale=x_sc, tick_rotate=-45, label='Primary Class Type')\n",
    "y_ax = bqplot.Axis(scale=y_sc, orientation='vertical', label='Average Area in Square Kilometers as a Log Scale')\n",
    "\n",
    "tt = bqplot.Tooltip(fields=['x', 'y'], labels=['Primary Class', 'Average Area'])\n",
    "\n",
    "scatters2 = bqplot.Scatter(x=glaciers_class['primary_class_name'], y=glaciers_class['total_area'], \n",
    "                  scales={'x': x_sc, 'y': y_sc}, tooltip=tt)\n",
    "\n",
    "fig = bqplot.Figure(marks=[scatters2], axes=[x_ax, y_ax], title='Primary Class Type by Average Area as a Log Scale')\n",
    "fig"
   ]
  },
  {
   "cell_type": "markdown",
   "metadata": {},
   "source": [
    "The plot above is the exact same data as the previous plot, just plotted on the log scale. As you can see, the differences between all of the glacier types near the bottom are greatly exaggerated, so now it is easy to see that Ice Shelf glaciers have, on average, the smallest area. Note that by hovering over the data points, the average area number is the same as in the previous graph! It is simply a difference in how it is plotted. "
   ]
  },
  {
   "cell_type": "code",
   "execution_count": 26,
   "metadata": {},
   "outputs": [
    {
     "data": {
      "application/vnd.jupyter.widget-view+json": {
       "model_id": "b5e7cec4ba0243f1884029c72dc1680d",
       "version_major": 2,
       "version_minor": 0
      },
      "text/plain": [
       "Figure(axes=[Axis(label='Primary Class Type', scale=OrdinalScale(), tick_rotate=-45), Axis(label='Total Area i…"
      ]
     },
     "metadata": {},
     "output_type": "display_data"
    }
   ],
   "source": [
    "x_sc = bqplot.OrdinalScale()\n",
    "y_sc = bqplot.LinearScale()\n",
    "\n",
    "x_ax = bqplot.Axis(scale=x_sc, tick_rotate=-45, label='Primary Class Type')\n",
    "y_ax = bqplot.Axis(scale=y_sc, orientation='vertical', label='Total Area in Square Kilometers')\n",
    "\n",
    "tt = bqplot.Tooltip(fields=['x', 'y'], labels=['Primary Class', 'Total Area'])\n",
    "\n",
    "scatters3 = bqplot.Scatter(x=glaciers_area['primary_class_name'], y=glaciers_area['total_area'], \n",
    "                  scales={'x': x_sc, 'y': y_sc}, tooltip=tt)\n",
    "\n",
    "fig = bqplot.Figure(marks=[scatters3], axes=[x_ax, y_ax], title='Primary Class Type by Total Area')\n",
    "fig"
   ]
  },
  {
   "cell_type": "markdown",
   "metadata": {},
   "source": [
    "Finally, the plot above shows the glacier type by total area - that is, the area of all glaciers of that kind added together, rather than the average area for a glacier of that type. This graph shows us how much of the world's glaciers are which type of glacier. As expected, there are more Continental Ice Sheets than any other glacier type on Earth. Interestingly, this plot looks very similar to the log scale plot of average glacier area we looked at previously - reassuring us that glacier type is a good indicator of relatively how large or small a glacier will be - seemingly regardless of other factors. \n",
    "\n",
    "From this section, we can see that Continental Ice Sheets are always far larger than other glacier types. We can take this into consideration when looking at the other factors for what accounts for differences in glacial size. "
   ]
  },
  {
   "cell_type": "markdown",
   "metadata": {},
   "source": [
    "## Part 3: Glaciers by Country: Rainfall, Elevation, and Area"
   ]
  },
  {
   "cell_type": "markdown",
   "metadata": {},
   "source": [
    "For part 3, we'll take a look at an additional factor - rainfall. Does rainfall in an area influence glacier size? This rainfall data for each country was gathered from worldbank.org.$^{2}$ The visualizations here will also compare elevation relative to rainfall, to see if there are any connections between elevation and rainfall and glacier area. Rainfall could potentially have a correlation with glacier size because precipitation falling in a cold area could lead to snow or ice, which could be an indicator of locations where glaciers are more likely to form, and where they do form, are more likely to be larger in size. Elevation is included in these comparisons because in some places, elevation does have a correlation with rainfall, due to cooling of air as it rises over mountains. Take a look at the following visualizations to see if rainfall and elevation have a correlation with glacier size!"
   ]
  },
  {
   "cell_type": "code",
   "execution_count": 27,
   "metadata": {},
   "outputs": [],
   "source": [
    "country_dict = {'AF':'Afghanistan', 'AQ':'Antarctica', 'AR':'Argentina', 'AT':'Austria',\n",
    "               'BO':'Bolivia', 'BT':'Bhutan', 'CA':'Canada', 'CH':'Switzerland', 'CL':'Chile',\n",
    "               'CN':'China', 'CO':'Colombia', 'DE':'Germany', 'EC':'Ecuador', 'ES':'Spain',\n",
    "               'FR':'France', 'GL':'Greenland', 'GS':'South Georgia', \n",
    "               'HM':'Heard Island and McDonald Islands', 'ID':'Indonesia', 'IN':'India', 'IS':'Iceland',\n",
    "               'IT':'Italy', 'KE':'Kenya', 'MX':'Mexico', 'NO':'Norway', 'NP':'Nepal',\n",
    "               'NZ':'New Zealand', 'PE':'Peru', 'PK':'Pakistan', 'SE':'Sweden', \n",
    "                'SU':'Russian Federation', 'TF':'French Southern Territories', 'TZ':'Tanzania', \n",
    "                'UG':'Uganda', 'US':'United States', 'VE':'Venezuela, RB', 'ZA':'South Africa', \n",
    "                'ZR':'Congo, Dem. Rep.'}\n",
    "\n",
    "for i in country_dict:\n",
    "    glaciers.loc[glaciers['political_unit'] == i, 'political_unit'] = country_dict[i]\n",
    "    \n",
    "header = rainfall.iloc[3]\n",
    "rainfall = rainfall[4:]\n",
    "rainfall.columns = header\n",
    "\n",
    "glaciers_by_country = glaciers.groupby('political_unit')['total_area', 'max_elev', 'lat', 'lon'].mean()\n",
    "glaciers_by_country = glaciers_by_country.reset_index()\n",
    "\n",
    "rainfall['avg'] = rainfall.mean(axis=1)\n",
    "rainfall = rainfall[['Country Name', 'Country Code', 'avg']]\n",
    "rainfall = rainfall.set_index('Country Name')\n",
    "rain_glaciers = glaciers_by_country.join(rainfall, on='political_unit')\n",
    "rain_glaciers = rain_glaciers.dropna()"
   ]
  },
  {
   "cell_type": "code",
   "execution_count": 28,
   "metadata": {},
   "outputs": [
    {
     "data": {
      "application/vnd.jupyter.widget-view+json": {
       "model_id": "28abb8d1010f48dda3ac884f4eb0f4d0",
       "version_major": 2,
       "version_minor": 0
      },
      "text/plain": [
       "Figure(axes=[Axis(label='Country', scale=OrdinalScale(), tick_rotate=-45), Axis(label='Avg Rainfall in mm', or…"
      ]
     },
     "metadata": {},
     "output_type": "display_data"
    },
    {
     "data": {
      "application/vnd.jupyter.widget-view+json": {
       "model_id": "8f1eb44da1534dd4b7a2a7d01e2ac8ab",
       "version_major": 2,
       "version_minor": 0
      },
      "text/plain": [
       "Figure(axes=[Axis(label='Country', scale=OrdinalScale(), tick_rotate=-45), Axis(label='Avg Glacier Elevation i…"
      ]
     },
     "metadata": {},
     "output_type": "display_data"
    },
    {
     "data": {
      "application/vnd.jupyter.widget-view+json": {
       "model_id": "9209829921b846d9b9103130bc2aca0c",
       "version_major": 2,
       "version_minor": 0
      },
      "text/plain": [
       "Figure(axes=[Axis(label='Country', scale=OrdinalScale(), tick_rotate=-45), Axis(label='Avg Glacier Area in sq.…"
      ]
     },
     "metadata": {},
     "output_type": "display_data"
    }
   ],
   "source": [
    "### Rainfall Plot ###\n",
    "\n",
    "x_sc = bqplot.OrdinalScale()\n",
    "y_sc = bqplot.LinearScale()\n",
    "\n",
    "x_ax = bqplot.Axis(scale=x_sc, tick_rotate=-45, label='Country')\n",
    "y_ax = bqplot.Axis(scale=y_sc, label='Avg Rainfall in mm', orientation='vertical')\n",
    "\n",
    "tt = bqplot.Tooltip(fields=['x', 'y'], labels=['Country', 'Avg Rainfall'])\n",
    "\n",
    "bar_rain = bqplot.Bars(x=rain_glaciers['political_unit'], y=rain_glaciers['avg'],\n",
    "                        scales={'x':x_sc, 'y':y_sc}, tooltip=tt)\n",
    "\n",
    "fig = bqplot.Figure(marks=[bar_rain], axes=[x_ax, y_ax], title='Average Rainfall by Country')\n",
    "\n",
    "### Elevation Plot ###\n",
    "\n",
    "x_sc2 = bqplot.OrdinalScale()\n",
    "y_sc2 = bqplot.LinearScale()\n",
    "\n",
    "x_ax2 = bqplot.Axis(scale=x_sc2, tick_rotate=-45, label='Country')\n",
    "y_ax2 = bqplot.Axis(scale=y_sc2, label='Avg Glacier Elevation in m', orientation='vertical')\n",
    "\n",
    "tt = bqplot.Tooltip(fields=['x', 'y'], labels=['Country', 'Avg Glacier Elevation'])\n",
    "\n",
    "bar_elev = bqplot.Bars(x=rain_glaciers['political_unit'], y=rain_glaciers['max_elev'],\n",
    "                        scales={'x':x_sc2, 'y':y_sc2}, tooltip=tt)\n",
    "\n",
    "fig2 = bqplot.Figure(marks=[bar_elev], axes=[x_ax2, y_ax2], title='Average Max Glacier Elevation by Country')\n",
    "\n",
    "### Area Plot ###\n",
    "\n",
    "x_sc3 = bqplot.OrdinalScale()\n",
    "y_sc3 = bqplot.LinearScale()\n",
    "\n",
    "x_ax3 = bqplot.Axis(scale=x_sc3, tick_rotate=-45, label='Country')\n",
    "y_ax3 = bqplot.Axis(scale=y_sc3, label='Avg Glacier Area in sq.km', orientation='vertical')\n",
    "\n",
    "tt = bqplot.Tooltip(fields=['x', 'y'], labels=['Country', 'Avg Glacier Area'])\n",
    "\n",
    "bar_area = bqplot.Bars(x=rain_glaciers['political_unit'], y=rain_glaciers['total_area'],\n",
    "                        scales={'x':x_sc3, 'y':y_sc3}, tooltip=tt)\n",
    "\n",
    "fig3 = bqplot.Figure(marks=[bar_area], axes=[x_ax3, y_ax3], title='Average Glacier Area by Country')\n",
    "\n",
    "\n",
    "display(fig, fig2, fig3)"
   ]
  },
  {
   "cell_type": "markdown",
   "metadata": {},
   "source": [
    "Taking a look at the three plots above, we see average rainfall, average glacier elevation, and average glacier area, all per country. These plots were made by averaging all information about glaciers by country. A few countries and political units have been left out of these plot because there was no corresponding rainfall data that was collected (e.g., Antarctica). The bars on these plots can be hovered over to see the precise information - the country name and y-value. \n",
    "\n",
    "It seems there is not much of a correlation between average rainfall, glacier size, and glacier elevation. Norway, Chile, and the United States have the largest average glacier size, and Norway has the second lowest average glacier max elevation - while Chile and the United States are firmly in the middle of all data for average glacier elevation. Nepal, Pakistan, and Tanzania have the highest average glacier max elevation. Colombia, Indonesia, and Ecuador have the highest average rainfall.  Even though there are no correlations here, that's okay, because we've eliminated another variable as to why some glaciers are larger than others - we know that average rainfall of a country isn't correlated with that country's glacier size. "
   ]
  },
  {
   "cell_type": "markdown",
   "metadata": {},
   "source": [
    "## So now what?"
   ]
  },
  {
   "cell_type": "markdown",
   "metadata": {},
   "source": [
    "We've learned a lot information about glaciers and glacier size! First we took a look at glaciers and max elevation, to see if there was any relationship between max elevation and where the largest area of glaciers are. Then we looked to see if the type of glacier is correlated in any way with its average size, and we learned that Continental Ice Sheets are on average, much larger than all other glacier types. We learned that of all the glaciers on Earth, after Continental Ice Sheets, the most glacial area is found in Valley Glaciers, Outlet Glaciers, and Mountain Glaciers. Finally, we saw that the average rainfall of a country does not seem to be correlated with the average glacier size of that country, and neither of those are correlated with the average maximum glacier elevation of that country.  \n",
    "\n",
    "There is still a lot of information that can be gathered from looking at the data used for these visualizations. These plots were just a small sampling of all the possible relationships that can be studied. For example, in addition to looking at glacier information by country, we could also look at it by each continent. We could also look at minimum elevation of each glacier, and see if there are any interesting relationships with that, especially when compared to the max elevation that we looked at here. \n",
    "\n",
    "Hopefully you learned a lot about glaciers from this article, and if you want to keep exploring this data on your own, please see the sources listed below for access to the raw data. "
   ]
  },
  {
   "cell_type": "markdown",
   "metadata": {},
   "source": [
    "** Sources:\n",
    "1. WGMS, and National Snow and Ice Data Center (comps.). 1999 to present, updated 2012. World Glacier Inventory, Version 1. Boulder, Colorado USA. NSIDC: National Snow and Ice Data Center. doi: https://doi.org/10.7265/N5/NSIDC-WGI-2012-02. March 31, 2019.\n",
    "2. https://data.worldbank.org/indicator/AG.LND.PRCP.MM?type=shaded&view=map\n",
    "3. https://www.nationalgeographic.org/encyclopedia/ice-sheet/\n",
    "4. https://nsidc.org/cryosphere/quickfacts/iceshelves.html\n",
    "5. https://nsidc.org/cryosphere/glaciers/questions/types.html"
   ]
  },
  {
   "cell_type": "code",
   "execution_count": null,
   "metadata": {},
   "outputs": [],
   "source": []
  }
 ],
 "metadata": {
  "kernelspec": {
   "display_name": "Python 3",
   "language": "python",
   "name": "python3"
  },
  "language_info": {
   "codemirror_mode": {
    "name": "ipython",
    "version": 3
   },
   "file_extension": ".py",
   "mimetype": "text/x-python",
   "name": "python",
   "nbconvert_exporter": "python",
   "pygments_lexer": "ipython3",
   "version": "3.7.3"
  }
 },
 "nbformat": 4,
 "nbformat_minor": 2
}
