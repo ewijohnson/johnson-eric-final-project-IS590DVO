{
 "cells": [
  {
   "cell_type": "markdown",
   "metadata": {},
   "source": [
    "# Glaciers around the World: What influences glacial size?"
   ]
  },
  {
   "cell_type": "markdown",
   "metadata": {},
   "source": [
    "### An interactive visualization and exploration by Eric Johnson"
   ]
  },
  {
   "cell_type": "markdown",
   "metadata": {},
   "source": [
    "Our world contains many glaciers, ranging in size from over 11,000 square kilometeres to less than a fraction of a square kilometer. Why do glaciers come in such a wide variety of sizes? Glaciers form high in the mountains, and at sea level. They are found at the poles and in countries near the equator. They come in different types, forming in different places and because of different reasons. Do any of these factors correlate with glacier size? These visualizations will explore this question. \n",
    "\n",
    "These visualizations were created using data from different sources which can be found at the end of this article, with the main data set being used from the National Snow and Ice Data Center - the World Glacier Inventory, a catalog of over 130,000 glaciers that was created between 1900 and 2003.$^{1}$ This data serves as a representative sample of most glaciers on Earth in the end of the 20th century, with the exception of many Antarctican glaciers, as the data only includes glaciers north of -71 degrees South, which excludes most of the Antarctican mainland. The other main data set used is a collection of data on average rainfall for countries around the world, from worldbank.org.$^{2}$ "
   ]
  },
  {
   "cell_type": "code",
   "execution_count": 1,
   "metadata": {
    "collapsed": true
   },
   "outputs": [],
   "source": [
    "import pandas as pd\n",
    "import bqplot\n",
    "import numpy as np\n",
    "import traitlets\n",
    "import ipywidgets\n",
    "%matplotlib inline\n",
    "import matplotlib.pyplot as plt"
   ]
  },
  {
   "cell_type": "code",
   "execution_count": 2,
   "metadata": {
    "collapsed": true
   },
   "outputs": [],
   "source": [
    "glaciers_file = 'world_glacier_inventory.zip'\n",
    "rainfall_file = 'world_rainfall.zip'\n",
    "\n",
    "glaciers = pd.read_csv(glaciers_file, encoding='ISO-8859-1')\n",
    "rainfall = pd.read_csv(rainfall_file)"
   ]
  },
  {
   "cell_type": "markdown",
   "metadata": {},
   "source": [
    "## Part 1: Glaciers by Area and Elevation"
   ]
  },
  {
   "cell_type": "markdown",
   "metadata": {},
   "source": [
    "To start off our glacial exploration, let's consider the elevations where glaciers form. Glaciers form near the sea at both poles, where lengthy winters allow for vast expanses of ice. Glaciers also form in the mountains, where the temperatures can be significantly colder than at the base - for example, there are glaciers in places like South Africa and Venezuela! But is there a correlation between glacier size and elevation? Where do the largest glaciers form? Are they closer to sea level, or are the largest high up in the mountains? This first interactive visualization will explore any relationships between max elevation of glaciers and total area. "
   ]
  },
  {
   "cell_type": "code",
   "execution_count": 3,
   "metadata": {
    "collapsed": true
   },
   "outputs": [],
   "source": [
    "glaciers = glaciers.dropna(subset=['total_area', 'max_elev', 'primary_class'])\n",
    "glaciers = glaciers[glaciers.total_area != 0]\n",
    "glaciers = glaciers[(glaciers.lat != 0) & \n",
    "                    (glaciers.lon != 0)]"
   ]
  },
  {
   "cell_type": "code",
   "execution_count": 4,
   "metadata": {},
   "outputs": [
    {
     "name": "stderr",
     "output_type": "stream",
     "text": [
      "C:\\Users\\Eric\\Anaconda3\\lib\\site-packages\\ipykernel_launcher.py:15: RuntimeWarning: divide by zero encountered in log10\n",
      "  from ipykernel import kernelapp as app\n"
     ]
    },
    {
     "data": {
      "text/plain": [
       "array([[nan, nan, nan, ..., nan, nan, nan],\n",
       "       [nan, nan, nan, ..., nan, nan, nan],\n",
       "       [nan, nan, nan, ..., nan, nan, nan],\n",
       "       ...,\n",
       "       [nan, nan, nan, ..., nan, nan, nan],\n",
       "       [nan, nan, nan, ..., nan, nan, nan],\n",
       "       [nan, nan, nan, ..., nan, nan, nan]])"
      ]
     },
     "execution_count": 4,
     "metadata": {},
     "output_type": "execute_result"
    }
   ],
   "source": [
    "nlong = 50\n",
    "nlat = 50\n",
    "\n",
    "long_bins = np.linspace(-180, 180, nlong+1)\n",
    "lat_bins = np.linspace(-90, 90, nlat+1)\n",
    "\n",
    "hist2d, long_edges, lat_edges = np.histogram2d(glaciers['lon'], glaciers['lat'],\n",
    "                                                 weights=glaciers['max_elev'], \n",
    "                                                 bins=[long_bins, lat_bins], \n",
    "                                                 )\n",
    "\n",
    "long_centers = [(long_edges[i] + long_edges[i+1]) * 0.5 for i in range(len(long_edges)-1)]\n",
    "lat_centers = [(lat_edges[i] + lat_edges[i+1]) * 0.5 for i in range(len(lat_edges)-1)]\n",
    "\n",
    "np.log10(hist2d)\n",
    "\n",
    "hist2d[hist2d <=0] = np.nan\n",
    "hist2d = np.log10(hist2d)\n",
    "hist2d = hist2d.T\n",
    "\n",
    "hist2d"
   ]
  },
  {
   "cell_type": "code",
   "execution_count": 5,
   "metadata": {},
   "outputs": [
    {
     "data": {
      "application/vnd.jupyter.widget-view+json": {
       "model_id": "3538a21876e247218e8ad0209064597e",
       "version_major": 2,
       "version_minor": 0
      },
      "text/plain": [
       "A Jupyter Widget"
      ]
     },
     "metadata": {},
     "output_type": "display_data"
    }
   ],
   "source": [
    "col_sc = bqplot.ColorScale(scheme='GnBu')\n",
    "x_sc = bqplot.LinearScale()\n",
    "y_sc = bqplot.LinearScale()\n",
    "\n",
    "c_ax = bqplot.ColorAxis(scale=col_sc, orientation='vertical', side='right', label='log(m)')\n",
    "x_ax = bqplot.Axis(scale=x_sc, label='Longitude')\n",
    "y_ax = bqplot.Axis(scale=y_sc, label='Latitude', orientation='vertical')\n",
    "\n",
    "heat_map = bqplot.GridHeatMap(color=hist2d, row=lat_centers, column=long_centers,\n",
    "                             scales={'color':col_sc, 'row':y_sc, 'column':x_sc},\n",
    "                             interactions={'click':'select'},\n",
    "                             anchor_style={'fill': 'red'},\n",
    "                             selected_style={'opacity':1.0},\n",
    "                             unselected_style={'opacity':1.0})\n",
    "\n",
    "### Elevation and Area Plot ###\n",
    "\n",
    "x_scl = bqplot.LinearScale()\n",
    "y_scl = bqplot.LinearScale()\n",
    "ax_xcl = bqplot.Axis(label='Max Elevation in m', scale=x_scl)\n",
    "ax_ycl = bqplot.Axis(label='Total Area in sq.m', scale=y_scl, \n",
    "                     orientation='vertical', side='left')\n",
    "\n",
    "\n",
    "i, j = 0, 0 \n",
    "longs = [long_edges[j], long_edges[j+1]]\n",
    "lats = [lat_edges[i], lat_edges[i+1]]\n",
    "region_mask = ((glaciers['lat'] >= lats[0]) & (glaciers['lat'] < lats[1]) &\\\n",
    "              (glaciers['lon'] >= longs[0]) & (glaciers['lon'] < longs[1]))\n",
    "\n",
    "elev, elev_edges = np.histogram(glaciers['max_elev'][region_mask], \n",
    "                                weights=glaciers['total_area'][region_mask], \n",
    "                                bins=10)\n",
    "\n",
    "elev_centers = [(elev_edges[i] + elev_edges[i+1]) * 0.5 for i in range(len(elev_edges)-1)]\n",
    "\n",
    "elev_hist = bqplot.Lines(x=elev_centers, y=elev,\n",
    "                       scales={'x':x_scl, 'y':y_scl})\n",
    "\n",
    "fig_elev = bqplot.Figure(marks=[elev_hist], axes=[ax_xcl, ax_ycl])\n",
    "\n",
    "### Tracking Changes ###\n",
    "\n",
    "mySelectedLabel = ipywidgets.Label()\n",
    "def get_data_value(change):\n",
    "    i, j = change['owner'].selected[0]\n",
    "    v = hist2d[i, j]\n",
    "    mySelectedLabel.value = 'Max Elevation in log(m) = ' + str(v)\n",
    "    longs = [long_edges[j], long_edges[j+1]]\n",
    "    lats = [lat_edges[i], lat_edges[i+1]]\n",
    "    region_mask = ((glaciers['lat'] >= lats[0]) & (glaciers['lat'] < lats[1]) &\\\n",
    "              (glaciers['lon'] >= longs[0]) & (glaciers['lon'] < longs[1]))\n",
    "    \n",
    "    elev, elev_edges = np.histogram(glaciers['max_elev'][region_mask], \n",
    "                                weights=glaciers['total_area'][region_mask], \n",
    "                                bins=10)\n",
    "    elev_centers = [(elev_edges[i] + elev_edges[i+1]) * 0.5 for i in range(len(elev_edges)-1)]\n",
    "    elev_hist.x = elev_centers\n",
    "    elev_hist.y = elev\n",
    "    \n",
    "heat_map.observe(get_data_value, 'selected')\n",
    "\n",
    "fig = bqplot.Figure(marks=[heat_map], axes=[c_ax, y_ax, x_ax], \n",
    "                    title='World Glaciers by Max Elevation & Area')\n",
    "\n",
    "fig_elev.layout.max_width = '600px'\n",
    "fig_elev.layout.max_height = '500px'\n",
    "fig.layout.min_width = '800px'\n",
    "\n",
    "ipywidgets.VBox([mySelectedLabel, ipywidgets.HBox([fig_elev]),\n",
    "                fig])"
   ]
  },
  {
   "cell_type": "markdown",
   "metadata": {},
   "source": [
    "This visualization is a heat map, where each square represents the relative maximum elevation of glaciers in that square. The darker the color, the higher the elevation for the glaciers in that square. Each square can be clicked on, and will update the line graph above the heat map. The line graph compares the max elevation for each glacier in the selected square and shows the total area for the glaciers at each elevation. This is an easy way to compare different glaciers around the world and see at which elevations the largest glaciers form.\n",
    "\n",
    "Playing around with this visualization will help to show that glaciers exist at many different elevations and come in many different sizes. "
   ]
  },
  {
   "cell_type": "markdown",
   "metadata": {},
   "source": [
    "## Part 2: Glaciers by Type: What kinds of glaciers exist on Earth? Why should we care?"
   ]
  },
  {
   "cell_type": "markdown",
   "metadata": {},
   "source": [
    "In this section, we'll take a look at the different types of glaciers. It is important to get a closer look at the different kinds of glaciers, because there are many different factors that come into play when considering why some glaciers are larger than others. First we looked at elevation, to see if that had any correlation on size. Now we can look at glacier type, and see if there is any connection between the type of glacier and its size. \n",
    "\n",
    "Before we get started with this section, I'll briefly mention the ten different classifications of glacier types used by the NSIDC: Continental Ice Sheet, Ice Field, Ice Cap, Outlet Glacier, Valley Glacier, Mountain Glacier, Glacieret and Snowfield, Ice Shelf, Rock Glacier, and Miscellaneous. These types might not mean much right now, but with a little investigation, we can easily discover what the differences are between them. Continental Ice Sheet, for example, is a glacier that covers areas of continental land masses, such as the glaciers that cover Greenland.$^{3}$ An Ice Shelf is a glacier that floats on the sea and is connected to another glacier on the coast - the most famous example of this is the Ross Ice Shelf in Antarctica.$^{4}$ And a Valley Glacier is a glacier that has formed in a valley.$^{5}$ The other glacier types can be easily looked up for more detailed information, and the User Guide for this data set provides a brief explanation of each type as well, which can be found in the sources at the end of this article.$^{1}$"
   ]
  },
  {
   "cell_type": "code",
   "execution_count": 6,
   "metadata": {
    "collapsed": true
   },
   "outputs": [],
   "source": [
    "class_name = ['Miscellaneous', \n",
    "             'Continental Ice Sheet',\n",
    "             'Ice Field', \n",
    "             'Ice Cap', \n",
    "             'Outlet Glacier', \n",
    "             'Valley Glacier', \n",
    "             'Mountain Glacier', \n",
    "             'Glacieret and Snowfield', \n",
    "             'Ice Shelf', \n",
    "             'Rock Glacier']\n",
    "\n",
    "glaciers_class = glaciers.groupby('primary_class')['total_area'].mean()\n",
    "glaciers_class = glaciers_class.reset_index()\n",
    "glaciers_class['primary_class_name'] = class_name\n",
    "\n",
    "glaciers_area = glaciers.groupby('primary_class')['total_area'].sum()\n",
    "glaciers_area = glaciers_area.reset_index()\n",
    "glaciers_area['primary_class_name'] = class_name"
   ]
  },
  {
   "cell_type": "code",
   "execution_count": 7,
   "metadata": {
    "scrolled": false
   },
   "outputs": [
    {
     "data": {
      "application/vnd.jupyter.widget-view+json": {
       "model_id": "23500bfc554643759038738121bd4661",
       "version_major": 2,
       "version_minor": 0
      },
      "text/plain": [
       "A Jupyter Widget"
      ]
     },
     "metadata": {},
     "output_type": "display_data"
    }
   ],
   "source": [
    "x_sc = bqplot.OrdinalScale()\n",
    "y_sc = bqplot.LinearScale()\n",
    "\n",
    "tt = bqplot.Tooltip(fields=['x', 'y'], labels=['Primary Class', 'Average Total Area'])\n",
    "\n",
    "bars = bqplot.Scatter(x=glaciers_class['primary_class_name'], y=glaciers_class['total_area'], \n",
    "                  scales={'x': x_sc, 'y': y_sc}, tooltip=tt)\n",
    "\n",
    "x_ax = bqplot.Axis(scale=x_sc, label='Primary Class Type')\n",
    "y_ax = bqplot.Axis(scale=y_sc, orientation='vertical', label='Average Total Area in Square Meters')\n",
    "\n",
    "fig = bqplot.Figure(marks=[bars], axes=[x_ax, y_ax], title='Primary Class Type by Average Total Area')\n",
    "fig"
   ]
  },
  {
   "cell_type": "markdown",
   "metadata": {},
   "source": [
    "For all of the visualizations in this section, you can hover over a point to see the specific glacier type as well as the exact area value. \n",
    "\n",
    "The above visualization looks at the average area for a glacier of each type. It is easy to see that Continental Ice Sheets, on average, are far larger than any other type of glacier. Most of the other types are fairly close in average area to each other, and in fact, most of these are so close that it is hard to see which types are larger or smaller than the others. To get a better look at this data, the plot can be redrawn using a log scale, which essentially will exaggerate any differences near the bottom of the scale. "
   ]
  },
  {
   "cell_type": "code",
   "execution_count": 8,
   "metadata": {},
   "outputs": [
    {
     "data": {
      "application/vnd.jupyter.widget-view+json": {
       "model_id": "c302ae02126d4c3f98bbd8f7a9103013",
       "version_major": 2,
       "version_minor": 0
      },
      "text/plain": [
       "A Jupyter Widget"
      ]
     },
     "metadata": {},
     "output_type": "display_data"
    }
   ],
   "source": [
    "x_sc = bqplot.OrdinalScale()\n",
    "y_sc = bqplot.LogScale()\n",
    "\n",
    "tt = bqplot.Tooltip(fields=['x', 'y'], labels=['Primary Class', 'Average Total Area'])\n",
    "\n",
    "bars = bqplot.Scatter(x=glaciers_class['primary_class_name'], y=glaciers_class['total_area'], \n",
    "                  scales={'x': x_sc, 'y': y_sc}, tooltip=tt)\n",
    "\n",
    "x_ax = bqplot.Axis(scale=x_sc, label='Primary Class Type')\n",
    "y_ax = bqplot.Axis(scale=y_sc, orientation='vertical', label='Average Total Area in Square Meters as a Log Scale')\n",
    "\n",
    "fig = bqplot.Figure(marks=[bars], axes=[x_ax, y_ax], title='Primary Class Type by Average Total Area as a Log Scale')\n",
    "fig"
   ]
  },
  {
   "cell_type": "markdown",
   "metadata": {},
   "source": [
    "The plot above is the exact same data as the previous plot, just plotted on the log scale. As you can see, the differences between all of the glacier types near the bottom are greatly exaggerated, so now it is easy to see that Ice Shelf glaciers have, on average, the smallest area. Note that by hovering over the data points, the average area number is the same as in the previous graph! It is simply a difference in how it is plotted. "
   ]
  },
  {
   "cell_type": "code",
   "execution_count": 9,
   "metadata": {},
   "outputs": [
    {
     "data": {
      "application/vnd.jupyter.widget-view+json": {
       "model_id": "bf0b02c7d0e74522ad0b82d752d6a22b",
       "version_major": 2,
       "version_minor": 0
      },
      "text/plain": [
       "A Jupyter Widget"
      ]
     },
     "metadata": {},
     "output_type": "display_data"
    }
   ],
   "source": [
    "x_sc = bqplot.OrdinalScale()\n",
    "y_sc = bqplot.LinearScale()\n",
    "\n",
    "tt = bqplot.Tooltip(fields=['x', 'y'], labels=['Primary Class', 'Total Area'])\n",
    "\n",
    "bars = bqplot.Scatter(x=glaciers_area['primary_class_name'], y=glaciers_area['total_area'], \n",
    "                  scales={'x': x_sc, 'y': y_sc}, tooltip=tt)\n",
    "\n",
    "x_ax = bqplot.Axis(scale=x_sc, label='Primary Class Type')\n",
    "y_ax = bqplot.Axis(scale=y_sc, orientation='vertical', label='Total Area in Square Meters')\n",
    "\n",
    "fig = bqplot.Figure(marks=[bars], axes=[x_ax, y_ax], title='Primary Class Type by Total Area')\n",
    "fig"
   ]
  },
  {
   "cell_type": "markdown",
   "metadata": {},
   "source": [
    "Finally, the plot above shows the glacier type by total area - that is, the area of all glaciers of that kind added together, rather than the average area for a glacier of that type. This graph shows us how much of the world's glaciers are which type of glacier. As expected, there are more Continental Ice Sheets than any other glacier type on Earth. Interestingly, this plot looks very similar to the log scale plot of average glacier area we looked at previously - reassuring us that glacier type is a good indicator of relatively how large or small a glacier will be - seemingly regardless of other factors. \n",
    "\n",
    "From this section, we can see that Continental Ice Sheets are always far larger than other glacier types. We can take this into consideration when looking at the other factors for what accounts for differences in glacial size. "
   ]
  },
  {
   "cell_type": "markdown",
   "metadata": {},
   "source": [
    "## Part 3: Glaciers by Country: Rainfall, Elevation, and Area"
   ]
  },
  {
   "cell_type": "markdown",
   "metadata": {},
   "source": [
    "For part 3, we'll take a look at an additional factor - rainfall. Does rainfall in an area influence glacier size? This rainfall data for each country was gathered from worldbank.org.$^{2}$ The visualizations here will also compare elevation relative to rainfall, to see if there are any connections between elevation and rainfall and glacier area. Rainfall could potentially have a correlation with glacier size because precipitation falling in a cold area could lead to snow or ice, which could be an indicator of locations where glaciers are more likely to form, and where they do form, are more likely to be larger in size. Elevation is included in these comparisons because in some places, elevation does have a correlation with rainfall, due to cooling of air as it rises over mountains. Take a look at the following visualizations to see if rainfall and elevation have a correlation with glacier size!"
   ]
  },
  {
   "cell_type": "code",
   "execution_count": 10,
   "metadata": {
    "collapsed": true
   },
   "outputs": [],
   "source": [
    "country_dict = {'AF':'Afghanistan', 'AQ':'Antarctica', 'AR':'Argentina', 'AT':'Austria',\n",
    "               'BO':'Bolivia', 'BT':'Bhutan', 'CA':'Canada', 'CH':'Switzerland', 'CL':'Chile',\n",
    "               'CN':'China', 'CO':'Colombia', 'DE':'Germany', 'EC':'Ecuador', 'ES':'Spain',\n",
    "               'FR':'France', 'GL':'Greenland', 'GS':'South Georgia', \n",
    "               'HM':'Heard Island and McDonald Islands', 'ID':'Indonesia', 'IN':'India', 'IS':'Iceland',\n",
    "               'IT':'Italy', 'KE':'Kenya', 'MX':'Mexico', 'NO':'Norway', 'NP':'Nepal',\n",
    "               'NZ':'New Zealand', 'PE':'Peru', 'PK':'Pakistan', 'SE':'Sweden', \n",
    "                'SU':'Russian Federation', 'TF':'French Southern Territories', 'TZ':'Tanzania', \n",
    "                'UG':'Uganda', 'US':'United States', 'VE':'Venezuela, RB', 'ZA':'South Africa', \n",
    "                'ZR':'Congo, Dem. Rep.'}\n",
    "\n",
    "for i in country_dict:\n",
    "    glaciers.loc[glaciers['political_unit'] == i, 'political_unit'] = country_dict[i]\n",
    "    \n",
    "header = rainfall.iloc[3]\n",
    "rainfall = rainfall[4:]\n",
    "rainfall.columns = header\n",
    "\n",
    "glaciers_by_country = glaciers.groupby('political_unit')['total_area', 'max_elev', 'lat', 'lon'].mean()\n",
    "glaciers_by_country = glaciers_by_country.reset_index()\n",
    "\n",
    "rainfall['avg'] = rainfall.mean(axis=1)\n",
    "rainfall = rainfall[['Country Name', 'Country Code', 'avg']]\n",
    "rainfall = rainfall.set_index('Country Name')\n",
    "rain_glaciers = glaciers_by_country.join(rainfall, on='political_unit')\n",
    "rain_glaciers = rain_glaciers.dropna()"
   ]
  },
  {
   "cell_type": "code",
   "execution_count": 15,
   "metadata": {},
   "outputs": [
    {
     "data": {
      "application/vnd.jupyter.widget-view+json": {
       "model_id": "eda68f7959404e15b7d2f5eb68982420",
       "version_major": 2,
       "version_minor": 0
      },
      "text/plain": [
       "A Jupyter Widget"
      ]
     },
     "metadata": {},
     "output_type": "display_data"
    }
   ],
   "source": [
    "### Rainfall Plot ###\n",
    "x_sc = bqplot.LinearScale()\n",
    "y_sc = bqplot.LinearScale()\n",
    "c_sc = bqplot.ColorScale(scheme='RdYlGn')\n",
    "\n",
    "x_ax = bqplot.Axis(scale=x_sc, label='Longitude')\n",
    "y_ax = bqplot.Axis(scale=y_sc, label='Latitude', orientation='vertical')\n",
    "c_ax = bqplot.ColorAxis(scale=c_sc, label='Rain (mm)', orientation='vertical', side='right')\n",
    "\n",
    "scatters = bqplot.Scatter(x=rain_glaciers['lon'], y=rain_glaciers['lat'],\n",
    "                         color=rain_glaciers['avg'],\n",
    "                         scales={'x':x_sc, 'y':y_sc, 'color':c_sc})\n",
    "\n",
    "fig = bqplot.Figure(marks=[scatters], axes=[x_ax, y_ax, c_ax], title='Average Rainfall by Country')\n",
    "\n",
    "### Elevation Plot ###\n",
    "x_sc2 = bqplot.LinearScale()\n",
    "y_sc2 = bqplot.LinearScale()\n",
    "c_sc2 = bqplot.ColorScale(scheme='RdYlGn')\n",
    "\n",
    "x_ax2 = bqplot.Axis(scale=x_sc2, label='Longitude')\n",
    "y_ax2 = bqplot.Axis(scale=y_sc2, label='Latitude', orientation='vertical')\n",
    "c_ax2 = bqplot.ColorAxis(scale=c_sc2, label='Elev', orientation='vertical', side='right')\n",
    "\n",
    "scatters2 = bqplot.Scatter(x=rain_glaciers['lon'], y=rain_glaciers['lat'],\n",
    "                           color=rain_glaciers['max_elev'],\n",
    "                           scales={'x':x_sc2, 'y':y_sc2, 'color':c_sc2})\n",
    "\n",
    "fig2 = bqplot.Figure(marks=[scatters2], axes=[x_ax2, y_ax2, c_ax2], title='Average Max Glacier Elevation by Country')\n",
    "\n",
    "### Area Plot ###\n",
    "\n",
    "x_sc3 = bqplot.LinearScale()\n",
    "y_sc3 = bqplot.LinearScale()\n",
    "c_sc3 = bqplot.ColorScale(scheme='RdYlGn')\n",
    "\n",
    "x_ax3 = bqplot.Axis(scale=x_sc3, label='Longitude')\n",
    "y_ax3 = bqplot.Axis(scale=y_sc3, label='Latitude', orientation='vertical')\n",
    "c_ax3 = bqplot.ColorAxis(scale=c_sc3, label='Area (sq.m)', orientation='vertical', side='right')\n",
    "\n",
    "scatters3 = bqplot.Scatter(x=rain_glaciers['lon'], y=rain_glaciers['lat'],\n",
    "                           color=rain_glaciers['total_area'],\n",
    "                           scales={'x':x_sc3, 'y':y_sc3, 'color':c_sc3})\n",
    "\n",
    "fig3 = bqplot.Figure(marks=[scatters3], axes=[x_ax3, y_ax3, c_ax3], title='Average Glacier Area by Country')\n",
    "\n",
    "fig2.layout.max_width = '800px'\n",
    "fig2.layout.max_height = '400px'\n",
    "fig3.layout.max_width = '800px'\n",
    "fig3.layout.max_height = '400px'\n",
    "\n",
    "ipywidgets.VBox([ipywidgets.HBox([fig2, fig3]), fig])"
   ]
  },
  {
   "cell_type": "markdown",
   "metadata": {},
   "source": [
    "Taking a look at the three plots above, we see average glacier elevation and average glacier area in the top row, and average rainfall at the bottom. These plots were made by averaging all information about glaciers by country, rather than longitude and latitude segments as before, due to the nature of the rainfall data. Therefore, each data point on these plots represents all of the data for a single country. The locations of the points were chosen to represent the average of the latitudes and longitudes of all glaciers in that country (so, for example, the points that represent the United States glaciers are up where Alaska is, since that's where the majority of glaciers in the United States exist, skewing the average latitude and longitudes up north). \n",
    "\n",
    "It seems there is not much of a correlation between average rainfall and glacier size. There is somewhat of a correlation between rainfall and elevation, although only in some areas (the Himalayas/Tibetan Plateau are one major exception). Even though there isn't a correlation here, that's okay, because we've eliminated another variable as to why some glaciers are larger than others - we know that average rainfall doesn't seem to have any effect on glacier size. \n",
    "\n",
    "So, to summarize these groups of visualizations, there are many potential reasons why glaciers vary in size. We've explored a couple of those hypotheses here, including elevation, glacier type, and average rainfall. And hopefully you've learned more about glaciers in the process! "
   ]
  },
  {
   "cell_type": "markdown",
   "metadata": {},
   "source": [
    "** Sources:\n",
    "1. WGMS, and National Snow and Ice Data Center (comps.). 1999 to present, updated 2012. World Glacier Inventory, Version 1. Boulder, Colorado USA. NSIDC: National Snow and Ice Data Center. doi: https://doi.org/10.7265/N5/NSIDC-WGI-2012-02. March 31, 2019.\n",
    "2. https://data.worldbank.org/indicator/AG.LND.PRCP.MM?type=shaded&view=map\n",
    "3. https://www.nationalgeographic.org/encyclopedia/ice-sheet/\n",
    "4. https://nsidc.org/cryosphere/quickfacts/iceshelves.html\n",
    "5. https://nsidc.org/cryosphere/glaciers/questions/types.html"
   ]
  },
  {
   "cell_type": "code",
   "execution_count": null,
   "metadata": {
    "collapsed": true
   },
   "outputs": [],
   "source": []
  }
 ],
 "metadata": {
  "kernelspec": {
   "display_name": "Python 3",
   "language": "python",
   "name": "python3"
  },
  "language_info": {
   "codemirror_mode": {
    "name": "ipython",
    "version": 3
   },
   "file_extension": ".py",
   "mimetype": "text/x-python",
   "name": "python",
   "nbconvert_exporter": "python",
   "pygments_lexer": "ipython3",
   "version": "3.6.3"
  }
 },
 "nbformat": 4,
 "nbformat_minor": 2
}
